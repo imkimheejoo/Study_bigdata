{
 "cells": [
  {
   "cell_type": "markdown",
   "metadata": {},
   "source": [
    "## 김희주"
   ]
  },
  {
   "cell_type": "markdown",
   "metadata": {},
   "source": [
    "## 문제 82"
   ]
  },
  {
   "cell_type": "code",
   "execution_count": 1,
   "metadata": {},
   "outputs": [
    {
     "name": "stdout",
     "output_type": "stream",
     "text": [
      "움직인 거리(km)를 입력하시오13\n",
      "96 $입니다.\n"
     ]
    }
   ],
   "source": [
    "def fee(km):\n",
    "    m=(km*1000)//140\n",
    "    return 4+m\n",
    "f=int(input('움직인 거리(km)를 입력하시오'))\n",
    "print(fee(f),'$입니다.')    "
   ]
  },
  {
   "cell_type": "markdown",
   "metadata": {},
   "source": [
    "## 문제 84"
   ]
  },
  {
   "cell_type": "code",
   "execution_count": 17,
   "metadata": {},
   "outputs": [
    {
     "name": "stdout",
     "output_type": "stream",
     "text": [
      "14\n",
      "9\n",
      "5\n"
     ]
    },
    {
     "data": {
      "text/plain": [
       "9"
      ]
     },
     "execution_count": 17,
     "metadata": {},
     "output_type": "execute_result"
    }
   ],
   "source": [
    "\n",
    "def mean_value(a,b,c):\n",
    "    list_l=[a,b,c]\n",
    "    list.sort(list_l)\n",
    "    return list_l[1]\n",
    "\n",
    "a=int(input())\n",
    "b=int(input())\n",
    "c=int(input())\n",
    "\n",
    "mean_value(a,b,c)"
   ]
  },
  {
   "cell_type": "markdown",
   "metadata": {},
   "source": [
    "## 문제 85"
   ]
  },
  {
   "cell_type": "code",
   "execution_count": 20,
   "metadata": {},
   "outputs": [
    {
     "name": "stdout",
     "output_type": "stream",
     "text": [
      "12\n"
     ]
    },
    {
     "data": {
      "text/plain": [
       "'twelfth'"
      ]
     },
     "execution_count": 20,
     "metadata": {},
     "output_type": "execute_result"
    }
   ],
   "source": [
    "def sss(num):\n",
    "    ordinary_num=['first','second','third','fourth','fifth','sixth','seventh','eighth','ninth','tenth','eleventh','twelfth']\n",
    "    if num >12 or num <1:\n",
    "        return ''\n",
    "    else:\n",
    "        return ordinary_num[num-1]\n",
    "        \n",
    "s=int(input())\n",
    "sss(s)\n"
   ]
  },
  {
   "cell_type": "markdown",
   "metadata": {},
   "source": [
    "## 문제 86"
   ]
  },
  {
   "cell_type": "code",
   "execution_count": 22,
   "metadata": {},
   "outputs": [
    {
     "name": "stdout",
     "output_type": "stream",
     "text": [
      "On the  first day of Christmas my true love sent to me\n",
      "my true love sent to me:\n",
      "A partridge in a pear tree\n",
      "\n",
      "On the  second day of Christmas my true love sent to me\n",
      "my true love sent to me:\n",
      "two  turtle doves,\n",
      "A partridge in a pear tree\n",
      "\n",
      "On the  third day of Christmas my true love sent to me\n",
      "my true love sent to me:\n",
      "two  turtle doves,\n",
      "three  French hens,\n",
      "A partridge in a pear tree\n",
      "\n",
      "On the  fourth day of Christmas my true love sent to me\n",
      "my true love sent to me:\n",
      "two  turtle doves,\n",
      "three  French hens,\n",
      "four  calling birds,\n",
      "A partridge in a pear tree\n",
      "\n",
      "On the  fifth day of Christmas my true love sent to me\n",
      "my true love sent to me:\n",
      "two  turtle doves,\n",
      "three  French hens,\n",
      "four  calling birds,\n",
      "five  gold rings,\n",
      "A partridge in a pear tree\n",
      "\n",
      "On the  sixth day of Christmas my true love sent to me\n",
      "my true love sent to me:\n",
      "two  turtle doves,\n",
      "three  French hens,\n",
      "four  calling birds,\n",
      "five  gold rings,\n",
      "six  geese a laying\n",
      "A partridge in a pear tree\n",
      "\n",
      "On the  seventh day of Christmas my true love sent to me\n",
      "my true love sent to me:\n",
      "two  turtle doves,\n",
      "three  French hens,\n",
      "four  calling birds,\n",
      "five  gold rings,\n",
      "six  geese a laying\n",
      "seven  swans a swimming\n",
      "A partridge in a pear tree\n",
      "\n",
      "On the  eighth day of Christmas my true love sent to me\n",
      "my true love sent to me:\n",
      "two  turtle doves,\n",
      "three  French hens,\n",
      "four  calling birds,\n",
      "five  gold rings,\n",
      "six  geese a laying\n",
      "seven  swans a swimming\n",
      "eight  maids a milking\n",
      "A partridge in a pear tree\n",
      "\n",
      "On the  ninth day of Christmas my true love sent to me\n",
      "my true love sent to me:\n",
      "two  turtle doves,\n",
      "three  French hens,\n",
      "four  calling birds,\n",
      "five  gold rings,\n",
      "six  geese a laying\n",
      "seven  swans a swimming\n",
      "eight  maids a milking\n",
      "nine  drummers drumming\n",
      "A partridge in a pear tree\n",
      "\n",
      "On the  tenth day of Christmas my true love sent to me\n",
      "my true love sent to me:\n",
      "two  turtle doves,\n",
      "three  French hens,\n",
      "four  calling birds,\n",
      "five  gold rings,\n",
      "six  geese a laying\n",
      "seven  swans a swimming\n",
      "eight  maids a milking\n",
      "nine  drummers drumming\n",
      "ten  pipers piping\n",
      "A partridge in a pear tree\n",
      "\n",
      "On the  eleventh day of Christmas my true love sent to me\n",
      "my true love sent to me:\n",
      "two  turtle doves,\n",
      "three  French hens,\n",
      "four  calling birds,\n",
      "five  gold rings,\n",
      "six  geese a laying\n",
      "seven  swans a swimming\n",
      "eight  maids a milking\n",
      "nine  drummers drumming\n",
      "ten  pipers piping\n",
      "eleven  ladies dancing\n",
      "A partridge in a pear tree\n",
      "\n",
      "On the  twelfth day of Christmas my true love sent to me\n",
      "my true love sent to me:\n",
      "two  turtle doves,\n",
      "three  French hens,\n",
      "four  calling birds,\n",
      "five  gold rings,\n",
      "six  geese a laying\n",
      "seven  swans a swimming\n",
      "eight  maids a milking\n",
      "nine  drummers drumming\n",
      "ten  pipers piping\n",
      "eleven  ladies dancing\n",
      "twelve  Lords a leaping\n",
      "A partridge in a pear tree\n",
      "\n"
     ]
    }
   ],
   "source": [
    "ly=['two','three','four','five','six','seven','eight','nine','ten','eleven','twelve']\n",
    "item=[' turtle doves,',' French hens,',' calling birds,',' gold rings,',' geese a laying',' swans a swimming',' maids a milking',' drummers drumming',' pipers piping',' ladies dancing',' Lords a leaping']\n",
    "for i in range(1,13):\n",
    "    print('On the ',sss(i), 'day of Christmas my true love sent to me')\n",
    "    print('my true love sent to me:')\n",
    "    if i==1:\n",
    "        pass\n",
    "    else:\n",
    "        for j in range(1,i):\n",
    "            print(ly[j-1],item[j-1])\n",
    "    print('A partridge in a pear tree')\n",
    "    print('')"
   ]
  },
  {
   "cell_type": "markdown",
   "metadata": {},
   "source": [
    "## 문제 88"
   ]
  },
  {
   "cell_type": "code",
   "execution_count": 14,
   "metadata": {},
   "outputs": [
    {
     "name": "stdout",
     "output_type": "stream",
     "text": [
      "1\n",
      "2\n",
      "5\n"
     ]
    },
    {
     "data": {
      "text/plain": [
       "False"
      ]
     },
     "execution_count": 14,
     "metadata": {},
     "output_type": "execute_result"
    }
   ],
   "source": [
    "def triangle(l):\n",
    "    list.sort(l)\n",
    "    a=int(l[0])\n",
    "    b=int(l[1])\n",
    "    c=int(l[2])\n",
    "    if c<=a+b:\n",
    "        return True\n",
    "    else:\n",
    "        return False\n",
    "cont=0\n",
    "li=[]\n",
    "while True:\n",
    "    try:\n",
    "        if(cont==3):\n",
    "            break\n",
    "        else:\n",
    "            a=int(input())\n",
    "            li.append(a)\n",
    "            cont+=1\n",
    "    except:\n",
    "        print('숫자를 입력하시오')\n",
    "\n",
    "   \n",
    "        \n",
    "triangle(li)    \n"
   ]
  },
  {
   "cell_type": "markdown",
   "metadata": {},
   "source": [
    "## 문제 92"
   ]
  },
  {
   "cell_type": "code",
   "execution_count": 16,
   "metadata": {},
   "outputs": [
    {
     "name": "stdout",
     "output_type": "stream",
     "text": [
      "27\n"
     ]
    },
    {
     "data": {
      "text/plain": [
       "False"
      ]
     },
     "execution_count": 16,
     "metadata": {},
     "output_type": "execute_result"
    }
   ],
   "source": [
    "def prime(n):\n",
    "    for i in range(2,n):\n",
    "        if n%i==0:\n",
    "            return False\n",
    "    else:\n",
    "        return True\n",
    "\n",
    "nu=int(input())\n",
    "prime(nu)"
   ]
  },
  {
   "cell_type": "code",
   "execution_count": null,
   "metadata": {},
   "outputs": [],
   "source": []
  }
 ],
 "metadata": {
  "kernelspec": {
   "display_name": "Python 3",
   "language": "python",
   "name": "python3"
  },
  "language_info": {
   "codemirror_mode": {
    "name": "ipython",
    "version": 3
   },
   "file_extension": ".py",
   "mimetype": "text/x-python",
   "name": "python",
   "nbconvert_exporter": "python",
   "pygments_lexer": "ipython3",
   "version": "3.6.5"
  }
 },
 "nbformat": 4,
 "nbformat_minor": 2
}
