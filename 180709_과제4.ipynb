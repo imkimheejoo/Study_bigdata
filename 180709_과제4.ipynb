{
 "cells": [
  {
   "cell_type": "markdown",
   "metadata": {},
   "source": [
    "### 김희주"
   ]
  },
  {
   "cell_type": "markdown",
   "metadata": {},
   "source": [
    "### 문제 129"
   ]
  },
  {
   "cell_type": "code",
   "execution_count": 2,
   "metadata": {},
   "outputs": [],
   "source": [
    "import random"
   ]
  },
  {
   "cell_type": "code",
   "execution_count": 44,
   "metadata": {},
   "outputs": [
    {
     "name": "stdout",
     "output_type": "stream",
     "text": [
      "2 \t2.8 \t2.78\n",
      "3 \t4.3 \t5.56\n",
      "4 \t9.7 \t8.33\n",
      "5 \t11.3 \t11.11\n",
      "6 \t14.3 \t13.89\n",
      "7 \t15.4 \t16.67\n",
      "8 \t13.2 \t13.89\n",
      "9 \t12.3 \t11.11\n",
      "10 \t9.1 \t8.33\n",
      "11 \t5.3 \t5.56\n",
      "12 \t2.3 \t2.78\n"
     ]
    }
   ],
   "source": [
    "si=[0,0,0,0,0,0,0,0,0,0,0]\n",
    "per=[]\n",
    "exp=[]\n",
    "def func():\n",
    "    dice1= random.randint(1,6)\n",
    "    dice2= random.randint(1,6)\n",
    "    return dice1+dice2\n",
    "\n",
    "for i in range(1,1001):\n",
    "    total=func()   \n",
    "    for j in range(2,13):\n",
    "        if total == j:\n",
    "            si[j-2]+=1\n",
    "            \n",
    "for k in range(2,13):\n",
    "    per.append(round(si[k-2]/10,2))\n",
    "for t in range(1,7):\n",
    "    exp.append(round(t/36*100,2))\n",
    "for s in range(4,-1,-1):\n",
    "    exp.append(exp[s])\n",
    "\n",
    "for v in range(2,13):\n",
    "    print(v,'\\t',end=\"\")\n",
    "    print(per[v-2],'\\t',end=\"\")\n",
    "    print(exp[v-2])"
   ]
  },
  {
   "cell_type": "markdown",
   "metadata": {},
   "source": [
    "### 문제 130"
   ]
  },
  {
   "cell_type": "code",
   "execution_count": 89,
   "metadata": {},
   "outputs": [
    {
     "name": "stdout",
     "output_type": "stream",
     "text": [
      "4433555555666110966677755531111\n",
      "HELLO, WORLD"
     ]
    }
   ],
   "source": [
    "num={'1':'.' , '11':',' , '111':'?','1111':'!','11111':':','2':'A','22':'B','222':'C','3':'D','33':'E','333':'F','444':'I','4':'G','44':'H','5':'J','55':'K','555':'L','6':'M','66':'N','666':'O','7':'P','77':'Q','777':'R','7777':'S','8':'T','88':'U','888':'V','9':'W','99':'X','999':'Y','9999':'Z','0':' '}\n",
    "n=input()\n",
    "temp=n[0]\n",
    "for i in range(1,len(n)):\n",
    "    if n[i]=='1' or n[i]=='7' or n[i]=='9':\n",
    "        if n[i-1]== n[i] and len(temp)<4 :\n",
    "            temp+=n[i]\n",
    "        else:\n",
    "            print(num[temp],end=\"\")\n",
    "            temp=n[i]\n",
    "            \n",
    "    elif n[i-1]== n[i] and len(temp)<3:\n",
    "        temp+=n[i]\n",
    "    else:\n",
    "        print(num[temp],end=\"\")\n",
    "        temp=n[i]\n"
   ]
  },
  {
   "cell_type": "markdown",
   "metadata": {},
   "source": [
    "### 문제 131"
   ]
  },
  {
   "cell_type": "code",
   "execution_count": 72,
   "metadata": {},
   "outputs": [
    {
     "name": "stdout",
     "output_type": "stream",
     "text": [
      ".... . .-.. .-.. --- .-- --- .-. .-.. -..\n",
      "HELLOWORLD"
     ]
    }
   ],
   "source": [
    "alpha=['.-','-...','-.-.','-..','.','..-.','--.','....','..','.---','-.-','.-..','--','-.','---','.--.','--.-','.-.','...','-','..-','...-','.--','-..-','-.--','--..','-----','.----','..---','...--','....-','.....','-....','--...','---..','----.']\n",
    "st=input()\n",
    "split_s=st.split(\" \")\n",
    "con=0\n",
    "for i in split_s:\n",
    "    if alpha.index(i)<26:\n",
    "        print(chr(alpha.index(i)+65),end=\"\")\n",
    "    else:\n",
    "        print(chr(alpha.index(i)+23),end=\"\")\n",
    "       "
   ]
  },
  {
   "cell_type": "markdown",
   "metadata": {},
   "source": [
    "### 문제 132"
   ]
  },
  {
   "cell_type": "code",
   "execution_count": 74,
   "metadata": {},
   "outputs": [],
   "source": [
    "mapped={'A':'Newfoundland','B':'Nova Scotia','C':'Prince Edward Island','E':'New Brunswick','G':'Quebec','H':'Quebec','J':'Quebec','K':'Ontario','L':'Ontario','M':'Ontario','N':'Ontario','P':'Ontario','R':'Manitoba','S':'Saskatchewan' ,'T':'Alberta','V':'British Columbia','X1':'Nunavut','X2':'Northwest Territories','Y':'Yukon'}"
   ]
  },
  {
   "cell_type": "code",
   "execution_count": 80,
   "metadata": {},
   "outputs": [
    {
     "name": "stdout",
     "output_type": "stream",
     "text": [
      "T2N 1N4\n",
      "Alberta도시입니다\n"
     ]
    }
   ],
   "source": [
    "address=input()\n",
    "try:\n",
    "    if address[0]=='X':\n",
    "        print(mapped['X1'],\"또는\",mapped['X2'],'의')\n",
    "    else: \n",
    "        city=mapped[address[0]]\n",
    "        print(city,end=\"\")\n",
    "    if int(address[1]):\n",
    "        print('도시입니다')\n",
    "    else:\n",
    "        print('시골입니다')\n",
    "except:\n",
    "    print('잘못된 우편번호입니다')"
   ]
  },
  {
   "cell_type": "code",
   "execution_count": null,
   "metadata": {},
   "outputs": [],
   "source": []
  }
 ],
 "metadata": {
  "kernelspec": {
   "display_name": "Python 3",
   "language": "python",
   "name": "python3"
  },
  "language_info": {
   "codemirror_mode": {
    "name": "ipython",
    "version": 3
   },
   "file_extension": ".py",
   "mimetype": "text/x-python",
   "name": "python",
   "nbconvert_exporter": "python",
   "pygments_lexer": "ipython3",
   "version": "3.6.5"
  }
 },
 "nbformat": 4,
 "nbformat_minor": 2
}
