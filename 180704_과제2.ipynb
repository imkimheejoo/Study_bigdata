{
 "cells": [
  {
   "cell_type": "markdown",
   "metadata": {},
   "source": [
    "## 김희주"
   ]
  },
  {
   "cell_type": "markdown",
   "metadata": {},
   "source": [
    "## 문제 61"
   ]
  },
  {
   "cell_type": "code",
   "execution_count": 1,
   "metadata": {},
   "outputs": [
    {
     "name": "stdout",
     "output_type": "stream",
     "text": [
      "4\n",
      "23\n",
      "6\n",
      "21\n",
      "6\n",
      "7\n",
      "0\n",
      "11.166666666666666\n"
     ]
    }
   ],
   "source": [
    "num_list=[]\n",
    "while True:\n",
    "    try:\n",
    "        num=float(input())\n",
    "    except:\n",
    "        print('값을 입력하시오')\n",
    "        num=float(input())\n",
    "    if num ==0.0:\n",
    "        break\n",
    "    else:\n",
    "        num_list.append(num)\n",
    "sumOf=sum(num_list)\n",
    "print(sumOf/len(num_list))"
   ]
  },
  {
   "cell_type": "markdown",
   "metadata": {},
   "source": [
    "## 문제 63"
   ]
  },
  {
   "cell_type": "code",
   "execution_count": 2,
   "metadata": {},
   "outputs": [
    {
     "name": "stdout",
     "output_type": "stream",
     "text": [
      "0 C  =  32.0 F\n",
      "10 C  =  50.0 F\n",
      "20 C  =  68.0 F\n",
      "30 C  =  86.0 F\n",
      "40 C  =  104.0 F\n",
      "50 C  =  122.0 F\n",
      "60 C  =  140.0 F\n",
      "70 C  =  158.0 F\n",
      "80 C  =  176.0 F\n",
      "90 C  =  194.0 F\n",
      "100 C  =  212.0 F\n"
     ]
    }
   ],
   "source": [
    "#°F = °C × 1.8 + 32\n",
    "#화씨를 섭씨로 변환 : °C = (°F - 32) / 1.8\n",
    "\n",
    "for i in range(0,101,10):\n",
    "    print(i,'C',' = ',i*1.8+32,'F')"
   ]
  },
  {
   "cell_type": "markdown",
   "metadata": {},
   "source": [
    "## 문제 66"
   ]
  },
  {
   "cell_type": "code",
   "execution_count": 4,
   "metadata": {},
   "outputs": [
    {
     "name": "stdout",
     "output_type": "stream",
     "text": [
      "A\n",
      "C+\n",
      "B\n",
      "\n",
      "3.1666666666666665\n"
     ]
    }
   ],
   "source": [
    "grade_list=[]\n",
    "grade_sum=0\n",
    "while True:\n",
    "    grade=input()\n",
    "    \n",
    "    if grade =='':\n",
    "        break\n",
    "    else:\n",
    "        grade_list.append(grade)\n",
    "\n",
    "for i in grade_list:\n",
    "    if i == 'A+' or i=='A':\n",
    "        grade_sum+=4.0\n",
    "    elif i == 'A-':\n",
    "         grade_sum+=3.7\n",
    "    elif i=='B+':\n",
    "         grade_sum+=3.5\n",
    "    elif i=='B':\n",
    "         grade_sum+=3\n",
    "    elif i=='B-':\n",
    "         grade_sum+=2.7\n",
    "    elif i =='C+':\n",
    "         grade_sum+=2.3\n",
    "    elif i =='C':\n",
    "         grade_sum+=2\n",
    "    elif i=='C-':\n",
    "         grade_sum+=1.7\n",
    "    elif i=='D+':\n",
    "         grade_sum+=1.3\n",
    "    elif i =='D':\n",
    "         grade_sum+=1\n",
    "print( grade_sum/len(grade_list))\n",
    "            "
   ]
  },
  {
   "cell_type": "markdown",
   "metadata": {},
   "source": [
    "## 문제 67"
   ]
  },
  {
   "cell_type": "code",
   "execution_count": 19,
   "metadata": {},
   "outputs": [
    {
     "name": "stdout",
     "output_type": "stream",
     "text": [
      "40\n",
      "65\n",
      "12\n",
      "55\n",
      "\n",
      "이 그룹의 총 입장료는  78.0 원 입니다.\n"
     ]
    }
   ],
   "source": [
    "mem_list=[]\n",
    "total=0\n",
    "\n",
    "while True:\n",
    "    age=input()\n",
    "    if age=='':\n",
    "        break\n",
    "    else:\n",
    "        try:\n",
    "            mem_list.append(int(age))\n",
    "        except:\n",
    "            print('나이를 입력하시오')\n",
    "                \n",
    "                \n",
    "for i in mem_list:\n",
    "    if i<=2:\n",
    "        pass\n",
    "    elif 3<=i<=12:\n",
    "        total+=14.00\n",
    "    elif 65<=i:\n",
    "        total+=18.00\n",
    "    else:\n",
    "        total+=23.00\n",
    "\n",
    "print('이 그룹의 총 입장료는 ',round(total,2),'원 입니다.')"
   ]
  },
  {
   "cell_type": "markdown",
   "metadata": {},
   "source": [
    "## 문제 72\n"
   ]
  },
  {
   "cell_type": "code",
   "execution_count": 23,
   "metadata": {},
   "outputs": [
    {
     "name": "stdout",
     "output_type": "stream",
     "text": [
      "anna\n",
      "palindrome입니다.\n"
     ]
    }
   ],
   "source": [
    "a=input()\n",
    "\n",
    "for i in range(0,len(a)//2):\n",
    "    if a[i]==a[(i*-1)-1]:\n",
    "        pass\n",
    "    else:\n",
    "        print('palindrome이 아닙니다.')\n",
    "        break\n",
    "else:\n",
    "    print('palindrome입니다.')\n",
    "    "
   ]
  },
  {
   "cell_type": "markdown",
   "metadata": {},
   "source": [
    "## 문제 74"
   ]
  },
  {
   "cell_type": "code",
   "execution_count": 49,
   "metadata": {},
   "outputs": [
    {
     "name": "stdout",
     "output_type": "stream",
     "text": [
      "\t1 \t2 \t3 \t4 \t5 \t6 \t7 \t8 \t9 \t10\n",
      "1 \t1 \t2 \t3 \t4 \t5 \t6 \t7 \t8 \t9 \t10\n",
      "2 \t2 \t4 \t6 \t8 \t10 \t12 \t14 \t16 \t18 \t20\n",
      "3 \t3 \t6 \t9 \t12 \t15 \t18 \t21 \t24 \t27 \t30\n",
      "4 \t4 \t8 \t12 \t16 \t20 \t24 \t28 \t32 \t36 \t40\n",
      "5 \t5 \t10 \t15 \t20 \t25 \t30 \t35 \t40 \t45 \t50\n",
      "6 \t6 \t12 \t18 \t24 \t30 \t36 \t42 \t48 \t54 \t60\n",
      "7 \t7 \t14 \t21 \t28 \t35 \t42 \t49 \t56 \t63 \t70\n",
      "8 \t8 \t16 \t24 \t32 \t40 \t48 \t56 \t64 \t72 \t80\n",
      "9 \t9 \t18 \t27 \t36 \t45 \t54 \t63 \t72 \t81 \t90\n",
      "10 \t10 \t20 \t30 \t40 \t50 \t60 \t70 \t80 \t90 \t100\n"
     ]
    }
   ],
   "source": [
    "print('\\t',end=\"\")\n",
    "for i in range(0,11):\n",
    "    if i==0:\n",
    "        pass\n",
    "    else:\n",
    "        print(i,'\\t',end=\"\")\n",
    "    for j in range(1,11):\n",
    "        if i==0 and j!=10:\n",
    "            print(j,'\\t',end=\"\")\n",
    "        elif i==0 and j == 10:\n",
    "            print(j)\n",
    "        elif j==10:\n",
    "            print(i*j)\n",
    "        else:\n",
    "            print(i*j,'\\t',end=\"\")"
   ]
  },
  {
   "cell_type": "markdown",
   "metadata": {},
   "source": [
    "## 문제 75"
   ]
  },
  {
   "cell_type": "code",
   "execution_count": 53,
   "metadata": {},
   "outputs": [
    {
     "name": "stdout",
     "output_type": "stream",
     "text": [
      "3\n",
      "7\n",
      "최대공약수 1\n"
     ]
    }
   ],
   "source": [
    "m=int(input())\n",
    "n=int(input())\n",
    "d=min(m,n)\n",
    "gcd=0\n",
    "for i in range(d,0,-1):\n",
    "    if m%i==0 and n%i==0:\n",
    "        gcd=i\n",
    "        break\n",
    "else:gcd=1\n",
    "\n",
    "print('최대공약수',gcd)\n"
   ]
  },
  {
   "cell_type": "markdown",
   "metadata": {},
   "source": [
    "## 문제 77"
   ]
  },
  {
   "cell_type": "code",
   "execution_count": 63,
   "metadata": {},
   "outputs": [
    {
     "name": "stdout",
     "output_type": "stream",
     "text": [
      "1010\n"
     ]
    },
    {
     "data": {
      "text/plain": [
       "10"
      ]
     },
     "execution_count": 63,
     "metadata": {},
     "output_type": "execute_result"
    }
   ],
   "source": [
    "num=input()\n",
    "int(num,2)"
   ]
  },
  {
   "cell_type": "markdown",
   "metadata": {},
   "source": [
    "## 문제 78"
   ]
  },
  {
   "cell_type": "code",
   "execution_count": 19,
   "metadata": {},
   "outputs": [
    {
     "name": "stdout",
     "output_type": "stream",
     "text": [
      "13\n",
      "1101\n"
     ]
    }
   ],
   "source": [
    "list_r=[]\n",
    "result=''\n",
    "q=int(input())         \n",
    "while True:\n",
    "    if q==0:\n",
    "        break\n",
    "    else:\n",
    "        r=q%2\n",
    "        q=q//2\n",
    "        list_r.append(r)\n",
    "\n",
    "        \n",
    "        \n",
    "\n",
    "for i in range(len(list_r)-1,-1,-1):\n",
    "    result+=str(list_r[i])\n",
    "\n",
    "print(result)\n",
    "    \n",
    "        \n",
    "        \n",
    "    "
   ]
  },
  {
   "cell_type": "code",
   "execution_count": 4,
   "metadata": {},
   "outputs": [
    {
     "data": {
      "text/plain": [
       "['__add__',\n",
       " '__class__',\n",
       " '__contains__',\n",
       " '__delattr__',\n",
       " '__dir__',\n",
       " '__doc__',\n",
       " '__eq__',\n",
       " '__format__',\n",
       " '__ge__',\n",
       " '__getattribute__',\n",
       " '__getitem__',\n",
       " '__getnewargs__',\n",
       " '__gt__',\n",
       " '__hash__',\n",
       " '__init__',\n",
       " '__init_subclass__',\n",
       " '__iter__',\n",
       " '__le__',\n",
       " '__len__',\n",
       " '__lt__',\n",
       " '__mod__',\n",
       " '__mul__',\n",
       " '__ne__',\n",
       " '__new__',\n",
       " '__reduce__',\n",
       " '__reduce_ex__',\n",
       " '__repr__',\n",
       " '__rmod__',\n",
       " '__rmul__',\n",
       " '__setattr__',\n",
       " '__sizeof__',\n",
       " '__str__',\n",
       " '__subclasshook__',\n",
       " 'capitalize',\n",
       " 'casefold',\n",
       " 'center',\n",
       " 'count',\n",
       " 'encode',\n",
       " 'endswith',\n",
       " 'expandtabs',\n",
       " 'find',\n",
       " 'format',\n",
       " 'format_map',\n",
       " 'index',\n",
       " 'isalnum',\n",
       " 'isalpha',\n",
       " 'isdecimal',\n",
       " 'isdigit',\n",
       " 'isidentifier',\n",
       " 'islower',\n",
       " 'isnumeric',\n",
       " 'isprintable',\n",
       " 'isspace',\n",
       " 'istitle',\n",
       " 'isupper',\n",
       " 'join',\n",
       " 'ljust',\n",
       " 'lower',\n",
       " 'lstrip',\n",
       " 'maketrans',\n",
       " 'partition',\n",
       " 'replace',\n",
       " 'rfind',\n",
       " 'rindex',\n",
       " 'rjust',\n",
       " 'rpartition',\n",
       " 'rsplit',\n",
       " 'rstrip',\n",
       " 'split',\n",
       " 'splitlines',\n",
       " 'startswith',\n",
       " 'strip',\n",
       " 'swapcase',\n",
       " 'title',\n",
       " 'translate',\n",
       " 'upper',\n",
       " 'zfill']"
      ]
     },
     "execution_count": 4,
     "metadata": {},
     "output_type": "execute_result"
    }
   ],
   "source": [
    "dir(str)"
   ]
  },
  {
   "cell_type": "code",
   "execution_count": null,
   "metadata": {},
   "outputs": [],
   "source": []
  }
 ],
 "metadata": {
  "kernelspec": {
   "display_name": "Python 3",
   "language": "python",
   "name": "python3"
  }
 },
 "nbformat": 4,
 "nbformat_minor": 2
}
