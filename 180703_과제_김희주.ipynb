{
 "cells": [
  {
   "cell_type": "markdown",
   "metadata": {},
   "source": [
    "# 김희주"
   ]
  },
  {
   "cell_type": "markdown",
   "metadata": {},
   "source": [
    "## 문제 105"
   ]
  },
  {
   "cell_type": "code",
   "execution_count": 24,
   "metadata": {},
   "outputs": [
    {
     "name": "stdout",
     "output_type": "stream",
     "text": [
      "9\n",
      "4\n",
      "2\n",
      "5\n",
      "6\n",
      "7\n",
      "0\n",
      "[7, 6, 5, 2, 4, 9]\n"
     ]
    }
   ],
   "source": [
    "a=int(input())\n",
    "list_a=[]\n",
    "\n",
    "while a!=0:\n",
    "    list_a.append(a)\n",
    "    a=int(input())\n",
    "\n",
    "print(list_a[::-1])"
   ]
  },
  {
   "cell_type": "markdown",
   "metadata": {},
   "source": [
    "## 문제107"
   ]
  },
  {
   "cell_type": "code",
   "execution_count": 15,
   "metadata": {},
   "outputs": [
    {
     "name": "stdout",
     "output_type": "stream",
     "text": [
      "first\n",
      "second\n",
      "first\n",
      "thrid\n",
      "second\n",
      "\n",
      "second\n",
      "thrid\n",
      "first\n"
     ]
    }
   ],
   "source": [
    "s=input()\n",
    "list_s=[]\n",
    "while s!='':\n",
    "    list_s+=[s]\n",
    "    s=input()\n",
    "set_s=set(list_s)\n",
    "for i in set_s:\n",
    "    print(i)"
   ]
  },
  {
   "cell_type": "markdown",
   "metadata": {},
   "source": [
    "## 문제 108"
   ]
  },
  {
   "cell_type": "code",
   "execution_count": 14,
   "metadata": {},
   "outputs": [
    {
     "name": "stdout",
     "output_type": "stream",
     "text": [
      "숫자입력-4\n",
      "숫자입력3\n",
      "숫자입력0\n",
      "숫자입력-2\n",
      "숫자입력0\n",
      "숫자입력1\n",
      "숫자입력\n"
     ]
    },
    {
     "data": {
      "text/plain": [
       "[-4, -2, 0, 0, 3, 1]"
      ]
     },
     "execution_count": 14,
     "metadata": {},
     "output_type": "execute_result"
    }
   ],
   "source": [
    "list_n=[]\n",
    "f_list=[]\n",
    "num=input('숫자입력')\n",
    "\n",
    "while num!='':\n",
    "    list_n.append(int(num))\n",
    "    num=input('숫자입력')\n",
    "    \n",
    "for i in list_n:\n",
    "    if i<0:\n",
    "        f_list.append(i)\n",
    "        \n",
    "for j in list_n:\n",
    "     if j==0:\n",
    "        f_list.append(j)\n",
    "\n",
    "for k in list_n:\n",
    "    if k>0:\n",
    "        f_list.append(k)\n",
    "\n",
    "f_list\n"
   ]
  },
  {
   "cell_type": "markdown",
   "metadata": {},
   "source": [
    "## 문제 110"
   ]
  },
  {
   "cell_type": "code",
   "execution_count": 13,
   "metadata": {},
   "outputs": [
    {
     "name": "stdout",
     "output_type": "stream",
     "text": [
      "정수를 입력28\n",
      "[1, 2, 4, 7, 14]\n",
      "28\n"
     ]
    },
    {
     "data": {
      "text/plain": [
       "True"
      ]
     },
     "execution_count": 13,
     "metadata": {},
     "output_type": "execute_result"
    }
   ],
   "source": [
    "def f(n):\n",
    "    for h in range(1,n):\n",
    "        if n%h==0:\n",
    "            h_list.append(h)\n",
    "    h_sum=sum(h_list)\n",
    "    print(h_list)\n",
    "    print(h_sum)\n",
    "    if h_sum==n:\n",
    "        return True\n",
    "    else:\n",
    "        return False\n",
    "\n",
    "n=int(input('정수를 입력'))\n",
    "h_list=[]\n",
    "f(n)"
   ]
  },
  {
   "cell_type": "markdown",
   "metadata": {},
   "source": [
    "## 문제 113"
   ]
  },
  {
   "cell_type": "code",
   "execution_count": 12,
   "metadata": {},
   "outputs": [
    {
     "name": "stdout",
     "output_type": "stream",
     "text": [
      "apple\n",
      "orange\n",
      "banana\n",
      "\n",
      "apple,orange and banana\n"
     ]
    }
   ],
   "source": [
    "a=input()\n",
    "list_a=[]\n",
    "str_a=str()\n",
    "while a != '':\n",
    "    list_a.append(a)\n",
    "    a=input()\n",
    "for i in list_a:\n",
    "    if i != list_a[-2] and i != list_a[-1]:\n",
    "        str_a+=(i)\n",
    "        str_a+=','\n",
    "    elif i == list_a[-2]:\n",
    "        str_a+=(i)\n",
    "        str_a+=' and '\n",
    "    else:\n",
    "        str_a+=i\n",
    "\n",
    "print(str_a)\n",
    "    "
   ]
  },
  {
   "cell_type": "markdown",
   "metadata": {},
   "source": [
    "## 문제 114"
   ]
  },
  {
   "cell_type": "code",
   "execution_count": 9,
   "metadata": {},
   "outputs": [],
   "source": [
    "import random"
   ]
  },
  {
   "cell_type": "code",
   "execution_count": 10,
   "metadata": {},
   "outputs": [
    {
     "name": "stdout",
     "output_type": "stream",
     "text": [
      "10\n",
      "20\n",
      "25\n",
      "40\n",
      "49\n",
      "7\n",
      "\n",
      "2\n",
      "[5, 10, 13, 23, 30, 40, 48]\n"
     ]
    }
   ],
   "source": [
    "cont=0\n",
    "correct=0\n",
    "li_f=list()\n",
    "a = random.randint(1,49)\n",
    "li_f.append(a)\n",
    "list.sort(li_f)\n",
    "    \n",
    "while True:\n",
    "    a = random.randint(1,49)\n",
    "    if a not in li_f:\n",
    "        li_f.append(a)\n",
    "        list.sort(li_f)\n",
    "        cont+=1\n",
    "    if cont==6:\n",
    "        break\n",
    "        \n",
    "b=input()\n",
    "while b != '':\n",
    "    if int(b) in li_f:\n",
    "        correct+=1        \n",
    "    b=input()\n",
    "\n",
    "print(correct)\n",
    "print(li_f)\n",
    "\n",
    "    \n",
    "    \n",
    "    "
   ]
  },
  {
   "cell_type": "markdown",
   "metadata": {},
   "source": [
    "## 문제 134번"
   ]
  },
  {
   "cell_type": "code",
   "execution_count": 5,
   "metadata": {},
   "outputs": [
    {
     "name": "stdout",
     "output_type": "stream",
     "text": [
      "Hello, World!\n",
      "{',', 'W', 'd', 'l', 'e', 'r', '!', 'o', ' ', 'H'}\n",
      "10\n",
      "zzz\n",
      "{'z'}\n",
      "1\n"
     ]
    }
   ],
   "source": [
    "a=input()\n",
    "set_d=set(a)\n",
    "print(set_d)\n",
    "print(len(set_d))\n",
    "b=input()\n",
    "set_e=set(b)\n",
    "print(set_e)\n",
    "print(len(set_e))"
   ]
  },
  {
   "cell_type": "markdown",
   "metadata": {},
   "source": [
    "## 문제 135번"
   ]
  },
  {
   "cell_type": "code",
   "execution_count": 7,
   "metadata": {},
   "outputs": [
    {
     "name": "stdout",
     "output_type": "stream",
     "text": [
      "evil\n",
      "live\n",
      "아나그램입니다.\n",
      "True\n"
     ]
    }
   ],
   "source": [
    "a=input()\n",
    "set_a=set(a)\n",
    "b=input()\n",
    "set_b=set(b)\n",
    "if set_a == set_b:\n",
    "    print('아나그램입니다.')\n",
    "    print(set_a ==set_b)\n",
    "else:\n",
    "    print('아나그램이 아닙니다.')\n",
    "    print(set_a==set_b)"
   ]
  },
  {
   "cell_type": "code",
   "execution_count": null,
   "metadata": {},
   "outputs": [],
   "source": []
  }
 ],
 "metadata": {
  "kernelspec": {
   "display_name": "Python 3",
   "language": "python",
   "name": "python3"
  },
  "language_info": {
   "codemirror_mode": {
    "name": "ipython",
    "version": 3
   },
   "file_extension": ".py",
   "mimetype": "text/x-python",
   "name": "python",
   "nbconvert_exporter": "python",
   "pygments_lexer": "ipython3",
   "version": "3.6.5"
  }
 },
 "nbformat": 4,
 "nbformat_minor": 2
}
